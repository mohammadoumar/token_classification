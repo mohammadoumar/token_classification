{
 "cells": [
  {
   "cell_type": "markdown",
   "metadata": {
    "gradient": {
     "editing": false,
     "id": "bb0e5f83-d32d-4d5e-bb28-cf61e6a4fd47",
     "kernelId": ""
    }
   },
   "source": [
    "# Prepare dataset"
   ]
  },
  {
   "cell_type": "markdown",
   "metadata": {
    "gradient": {
     "editing": false,
     "id": "c41f6822-5637-4efa-9850-ff1b8e2a109a",
     "kernelId": ""
    }
   },
   "source": [
    "- Create dataset from the new dataframe"
   ]
  },
  {
   "cell_type": "markdown",
   "metadata": {
    "gradient": {
     "editing": false,
     "id": "190922a4-3897-4417-b2e3-ad2e51dd6b1a",
     "kernelId": ""
    }
   },
   "source": [
    "## Librairies"
   ]
  },
  {
   "cell_type": "code",
   "execution_count": 1,
   "metadata": {
    "gradient": {
     "editing": false,
     "id": "7008b3a2-1f1f-432b-a232-71b4d9af1246",
     "kernelId": ""
    },
    "scrolled": true
   },
   "outputs": [
    {
     "name": "stdout",
     "output_type": "stream",
     "text": [
      "Looking in indexes: https://pypi.org/simple, https://pypi.ngc.nvidia.com\n",
      "Collecting pandas==1.3.4\n",
      "  Downloading pandas-1.3.4-cp38-cp38-manylinux_2_17_x86_64.manylinux2014_x86_64.whl (11.5 MB)\n",
      "\u001b[K     |████████████████████████████████| 11.5 MB 14.3 MB/s eta 0:00:01\n",
      "\u001b[?25hRequirement already satisfied: python-dateutil>=2.7.3 in /opt/conda/lib/python3.8/site-packages (from pandas==1.3.4) (2.8.2)\n",
      "Requirement already satisfied: pytz>=2017.3 in /opt/conda/lib/python3.8/site-packages (from pandas==1.3.4) (2021.3)\n",
      "Requirement already satisfied: numpy>=1.17.3 in /opt/conda/lib/python3.8/site-packages (from pandas==1.3.4) (1.21.2)\n",
      "Requirement already satisfied: six>=1.5 in /opt/conda/lib/python3.8/site-packages (from python-dateutil>=2.7.3->pandas==1.3.4) (1.16.0)\n",
      "Installing collected packages: pandas\n",
      "  Attempting uninstall: pandas\n",
      "    Found existing installation: pandas 1.4.3\n",
      "    Uninstalling pandas-1.4.3:\n",
      "      Successfully uninstalled pandas-1.4.3\n",
      "Successfully installed pandas-1.3.4\n",
      "\u001b[33mWARNING: Running pip as the 'root' user can result in broken permissions and conflicting behaviour with the system package manager. It is recommended to use a virtual environment instead: https://pip.pypa.io/warnings/venv\u001b[0m\n",
      "Looking in indexes: https://pypi.org/simple, https://pypi.ngc.nvidia.com\n",
      "Collecting transformers==4.12.5\n",
      "  Downloading transformers-4.12.5-py3-none-any.whl (3.1 MB)\n",
      "\u001b[K     |████████████████████████████████| 3.1 MB 22.0 MB/s eta 0:00:01\n",
      "\u001b[?25hRequirement already satisfied: huggingface-hub<1.0,>=0.1.0 in /opt/conda/lib/python3.8/site-packages (from transformers==4.12.5) (0.8.1)\n",
      "Collecting tokenizers<0.11,>=0.10.1\n",
      "  Downloading tokenizers-0.10.3-cp38-cp38-manylinux_2_5_x86_64.manylinux1_x86_64.manylinux_2_12_x86_64.manylinux2010_x86_64.whl (3.3 MB)\n",
      "\u001b[K     |████████████████████████████████| 3.3 MB 31.7 MB/s eta 0:00:01\n",
      "\u001b[?25hRequirement already satisfied: tqdm>=4.27 in /opt/conda/lib/python3.8/site-packages (from transformers==4.12.5) (4.62.3)\n",
      "Requirement already satisfied: requests in /opt/conda/lib/python3.8/site-packages (from transformers==4.12.5) (2.26.0)\n",
      "Requirement already satisfied: regex!=2019.12.17 in /opt/conda/lib/python3.8/site-packages (from transformers==4.12.5) (2021.10.8)\n",
      "Requirement already satisfied: sacremoses in /opt/conda/lib/python3.8/site-packages (from transformers==4.12.5) (0.0.46)\n",
      "Requirement already satisfied: pyyaml>=5.1 in /opt/conda/lib/python3.8/site-packages (from transformers==4.12.5) (5.4.1)\n",
      "Requirement already satisfied: packaging>=20.0 in /opt/conda/lib/python3.8/site-packages (from transformers==4.12.5) (21.0)\n",
      "Requirement already satisfied: numpy>=1.17 in /opt/conda/lib/python3.8/site-packages (from transformers==4.12.5) (1.21.2)\n",
      "Requirement already satisfied: filelock in /opt/conda/lib/python3.8/site-packages (from transformers==4.12.5) (3.3.0)\n",
      "Requirement already satisfied: typing-extensions>=3.7.4.3 in /opt/conda/lib/python3.8/site-packages (from huggingface-hub<1.0,>=0.1.0->transformers==4.12.5) (3.10.0.2)\n",
      "Requirement already satisfied: pyparsing>=2.0.2 in /opt/conda/lib/python3.8/site-packages (from packaging>=20.0->transformers==4.12.5) (2.4.7)\n",
      "Requirement already satisfied: certifi>=2017.4.17 in /opt/conda/lib/python3.8/site-packages (from requests->transformers==4.12.5) (2021.5.30)\n",
      "Requirement already satisfied: charset-normalizer~=2.0.0 in /opt/conda/lib/python3.8/site-packages (from requests->transformers==4.12.5) (2.0.0)\n",
      "Requirement already satisfied: idna<4,>=2.5 in /opt/conda/lib/python3.8/site-packages (from requests->transformers==4.12.5) (3.1)\n",
      "Requirement already satisfied: urllib3<1.27,>=1.21.1 in /opt/conda/lib/python3.8/site-packages (from requests->transformers==4.12.5) (1.26.7)\n",
      "Requirement already satisfied: click in /opt/conda/lib/python3.8/site-packages (from sacremoses->transformers==4.12.5) (8.0.1)\n",
      "Requirement already satisfied: six in /opt/conda/lib/python3.8/site-packages (from sacremoses->transformers==4.12.5) (1.16.0)\n",
      "Requirement already satisfied: joblib in /opt/conda/lib/python3.8/site-packages (from sacremoses->transformers==4.12.5) (1.1.0)\n",
      "Installing collected packages: tokenizers, transformers\n",
      "  Attempting uninstall: tokenizers\n",
      "    Found existing installation: tokenizers 0.12.1\n",
      "    Uninstalling tokenizers-0.12.1:\n",
      "      Successfully uninstalled tokenizers-0.12.1\n",
      "  Attempting uninstall: transformers\n",
      "    Found existing installation: transformers 4.20.1\n",
      "    Uninstalling transformers-4.20.1:\n",
      "      Successfully uninstalled transformers-4.20.1\n",
      "Successfully installed tokenizers-0.10.3 transformers-4.12.5\n",
      "\u001b[33mWARNING: Running pip as the 'root' user can result in broken permissions and conflicting behaviour with the system package manager. It is recommended to use a virtual environment instead: https://pip.pypa.io/warnings/venv\u001b[0m\n",
      "Looking in indexes: https://pypi.org/simple, https://pypi.ngc.nvidia.com\n",
      "Collecting datasets==1.15.1\n",
      "  Downloading datasets-1.15.1-py3-none-any.whl (290 kB)\n",
      "\u001b[K     |████████████████████████████████| 290 kB 17.4 MB/s eta 0:00:01\n",
      "\u001b[?25hRequirement already satisfied: dill in /opt/conda/lib/python3.8/site-packages (from datasets==1.15.1) (0.3.5.1)\n",
      "Requirement already satisfied: pandas in /opt/conda/lib/python3.8/site-packages (from datasets==1.15.1) (1.3.4)\n",
      "Requirement already satisfied: requests>=2.19.0 in /opt/conda/lib/python3.8/site-packages (from datasets==1.15.1) (2.26.0)\n",
      "Requirement already satisfied: numpy>=1.17 in /opt/conda/lib/python3.8/site-packages (from datasets==1.15.1) (1.21.2)\n",
      "Requirement already satisfied: packaging in /opt/conda/lib/python3.8/site-packages (from datasets==1.15.1) (21.0)\n",
      "Requirement already satisfied: huggingface-hub<1.0.0,>=0.1.0 in /opt/conda/lib/python3.8/site-packages (from datasets==1.15.1) (0.8.1)\n",
      "Requirement already satisfied: fsspec[http]>=2021.05.0 in /opt/conda/lib/python3.8/site-packages (from datasets==1.15.1) (2022.5.0)\n",
      "Requirement already satisfied: xxhash in /opt/conda/lib/python3.8/site-packages (from datasets==1.15.1) (3.0.0)\n",
      "Requirement already satisfied: pyarrow!=4.0.0,>=1.0.0 in /opt/conda/lib/python3.8/site-packages (from datasets==1.15.1) (8.0.0)\n",
      "Requirement already satisfied: multiprocess in /opt/conda/lib/python3.8/site-packages (from datasets==1.15.1) (0.70.13)\n",
      "Requirement already satisfied: aiohttp in /opt/conda/lib/python3.8/site-packages (from datasets==1.15.1) (3.8.1)\n",
      "Requirement already satisfied: tqdm>=4.62.1 in /opt/conda/lib/python3.8/site-packages (from datasets==1.15.1) (4.62.3)\n",
      "Requirement already satisfied: pyyaml>=5.1 in /opt/conda/lib/python3.8/site-packages (from huggingface-hub<1.0.0,>=0.1.0->datasets==1.15.1) (5.4.1)\n",
      "Requirement already satisfied: filelock in /opt/conda/lib/python3.8/site-packages (from huggingface-hub<1.0.0,>=0.1.0->datasets==1.15.1) (3.3.0)\n",
      "Requirement already satisfied: typing-extensions>=3.7.4.3 in /opt/conda/lib/python3.8/site-packages (from huggingface-hub<1.0.0,>=0.1.0->datasets==1.15.1) (3.10.0.2)\n",
      "Requirement already satisfied: pyparsing>=2.0.2 in /opt/conda/lib/python3.8/site-packages (from packaging->datasets==1.15.1) (2.4.7)\n",
      "Requirement already satisfied: urllib3<1.27,>=1.21.1 in /opt/conda/lib/python3.8/site-packages (from requests>=2.19.0->datasets==1.15.1) (1.26.7)\n",
      "Requirement already satisfied: certifi>=2017.4.17 in /opt/conda/lib/python3.8/site-packages (from requests>=2.19.0->datasets==1.15.1) (2021.5.30)\n",
      "Requirement already satisfied: charset-normalizer~=2.0.0 in /opt/conda/lib/python3.8/site-packages (from requests>=2.19.0->datasets==1.15.1) (2.0.0)\n",
      "Requirement already satisfied: idna<4,>=2.5 in /opt/conda/lib/python3.8/site-packages (from requests>=2.19.0->datasets==1.15.1) (3.1)\n",
      "Requirement already satisfied: multidict<7.0,>=4.5 in /opt/conda/lib/python3.8/site-packages (from aiohttp->datasets==1.15.1) (6.0.2)\n",
      "Requirement already satisfied: async-timeout<5.0,>=4.0.0a3 in /opt/conda/lib/python3.8/site-packages (from aiohttp->datasets==1.15.1) (4.0.2)\n",
      "Requirement already satisfied: frozenlist>=1.1.1 in /opt/conda/lib/python3.8/site-packages (from aiohttp->datasets==1.15.1) (1.3.0)\n",
      "Requirement already satisfied: aiosignal>=1.1.2 in /opt/conda/lib/python3.8/site-packages (from aiohttp->datasets==1.15.1) (1.2.0)\n",
      "Requirement already satisfied: attrs>=17.3.0 in /opt/conda/lib/python3.8/site-packages (from aiohttp->datasets==1.15.1) (21.2.0)\n",
      "Requirement already satisfied: yarl<2.0,>=1.0 in /opt/conda/lib/python3.8/site-packages (from aiohttp->datasets==1.15.1) (1.7.2)\n",
      "Requirement already satisfied: python-dateutil>=2.7.3 in /opt/conda/lib/python3.8/site-packages (from pandas->datasets==1.15.1) (2.8.2)\n",
      "Requirement already satisfied: pytz>=2017.3 in /opt/conda/lib/python3.8/site-packages (from pandas->datasets==1.15.1) (2021.3)\n",
      "Requirement already satisfied: six>=1.5 in /opt/conda/lib/python3.8/site-packages (from python-dateutil>=2.7.3->pandas->datasets==1.15.1) (1.16.0)\n",
      "Installing collected packages: datasets\n",
      "  Attempting uninstall: datasets\n",
      "    Found existing installation: datasets 2.3.2\n",
      "    Uninstalling datasets-2.3.2:\n",
      "      Successfully uninstalled datasets-2.3.2\n",
      "Successfully installed datasets-1.15.1\n",
      "\u001b[33mWARNING: Running pip as the 'root' user can result in broken permissions and conflicting behaviour with the system package manager. It is recommended to use a virtual environment instead: https://pip.pypa.io/warnings/venv\u001b[0m\n"
     ]
    }
   ],
   "source": [
    "!pip install pandas==1.3.4\n",
    "!pip install transformers==4.12.5\n",
    "!pip install datasets==1.15.1"
   ]
  },
  {
   "cell_type": "code",
   "execution_count": 2,
   "metadata": {
    "gradient": {
     "editing": false,
     "id": "a705b996-66aa-4aa6-9ce0-1edd956b8866",
     "kernelId": ""
    }
   },
   "outputs": [],
   "source": [
    "import os\n",
    "import pickle\n",
    "\n",
    "import pandas as pd\n",
    "\n",
    "import numpy as np\n",
    "import torch\n",
    "\n",
    "import transformers\n",
    "from transformers import BertTokenizer\n",
    "\n",
    "import datasets\n",
    "from datasets import concatenate_datasets\n",
    "from datasets import Dataset\n",
    "from datasets import ClassLabel\n",
    "from datasets import DatasetDict"
   ]
  },
  {
   "cell_type": "code",
   "execution_count": 3,
   "metadata": {
    "gradient": {
     "editing": false,
     "id": "a8a8872d-0a98-4bd7-b38a-37810f8cdab3",
     "kernelId": ""
    }
   },
   "outputs": [
    {
     "name": "stdout",
     "output_type": "stream",
     "text": [
      "pandas:\t\t 1.3.4\n",
      "transformers:\t 4.12.5\n",
      "datasets:\t 1.15.1\n"
     ]
    }
   ],
   "source": [
    "print('pandas:\\t\\t', pd.__version__)\n",
    "print('transformers:\\t', transformers.__version__)\n",
    "print('datasets:\\t', datasets.__version__)"
   ]
  },
  {
   "cell_type": "markdown",
   "metadata": {
    "gradient": {
     "editing": false,
     "id": "5bf6295b-ee0c-47fa-8aa7-4aa06f0bab27",
     "kernelId": ""
    }
   },
   "source": [
    "## Global variables"
   ]
  },
  {
   "cell_type": "code",
   "execution_count": 4,
   "metadata": {},
   "outputs": [],
   "source": [
    "dataset_df = pd.read_pickle(\"/notebooks/token_classification/data/pe_dataset_task_1_bio_only_w_ints_correction_pickle\")"
   ]
  },
  {
   "cell_type": "code",
   "execution_count": 5,
   "metadata": {},
   "outputs": [
    {
     "data": {
      "text/html": [
       "<div>\n",
       "<style scoped>\n",
       "    .dataframe tbody tr th:only-of-type {\n",
       "        vertical-align: middle;\n",
       "    }\n",
       "\n",
       "    .dataframe tbody tr th {\n",
       "        vertical-align: top;\n",
       "    }\n",
       "\n",
       "    .dataframe thead th {\n",
       "        text-align: right;\n",
       "    }\n",
       "</style>\n",
       "<table border=\"1\" class=\"dataframe\">\n",
       "  <thead>\n",
       "    <tr style=\"text-align: right;\">\n",
       "      <th></th>\n",
       "      <th>split</th>\n",
       "      <th>essay</th>\n",
       "      <th>essay_nr</th>\n",
       "      <th>para_nr</th>\n",
       "      <th>paragraph</th>\n",
       "      <th>paragraph_words</th>\n",
       "      <th>paragraph_tags</th>\n",
       "      <th>tags_list_int</th>\n",
       "      <th>paragraph_tags_bio_only</th>\n",
       "      <th>paragraph_tags_bio_only_int</th>\n",
       "      <th>paragraph_tags_bio_only_correction</th>\n",
       "    </tr>\n",
       "  </thead>\n",
       "  <tbody>\n",
       "    <tr>\n",
       "      <th>0</th>\n",
       "      <td>TRAIN</td>\n",
       "      <td>Should students be taught to compete or to coo...</td>\n",
       "      <td>essay001</td>\n",
       "      <td>1</td>\n",
       "      <td>It is always said that competition can effecti...</td>\n",
       "      <td>[It, is, always, said, that, competition, can,...</td>\n",
       "      <td>[O, O, O, O, O, O, O, O, O, O, O, O, O, O, O, ...</td>\n",
       "      <td>[0, 0, 0, 0, 0, 0, 0, 0, 0, 0, 0, 0, 0, 0, 0, ...</td>\n",
       "      <td>[O, O, O, O, O, O, O, O, O, O, O, O, O, O, O, ...</td>\n",
       "      <td>[0, 0, 0, 0, 0, 0, 0, 0, 0, 0, 0, 0, 0, 0, 0, ...</td>\n",
       "      <td>[O, O, O, O, O, O, O, O, O, O, O, O, O, O, O, ...</td>\n",
       "    </tr>\n",
       "    <tr>\n",
       "      <th>1</th>\n",
       "      <td>TRAIN</td>\n",
       "      <td>Should students be taught to compete or to coo...</td>\n",
       "      <td>essay001</td>\n",
       "      <td>2</td>\n",
       "      <td>First of all, through cooperation, children ca...</td>\n",
       "      <td>[First, of, all, ,, through, cooperation, ,, c...</td>\n",
       "      <td>[O, O, O, O, B-Claim, I-Claim, I-Claim, I-Clai...</td>\n",
       "      <td>[0, 0, 0, 0, 3, 4, 4, 4, 4, 4, 4, 4, 4, 4, 4, ...</td>\n",
       "      <td>[O, O, O, O, B, I, I, I, I, I, I, I, I, I, I, ...</td>\n",
       "      <td>[0, 0, 0, 0, 1, 2, 2, 2, 2, 2, 2, 2, 2, 2, 2, ...</td>\n",
       "      <td>[O, O, O, O, B-COMP, I-COMP, I-COMP, I-COMP, I...</td>\n",
       "    </tr>\n",
       "    <tr>\n",
       "      <th>2</th>\n",
       "      <td>TRAIN</td>\n",
       "      <td>Should students be taught to compete or to coo...</td>\n",
       "      <td>essay001</td>\n",
       "      <td>3</td>\n",
       "      <td>On the other hand, the significance of competi...</td>\n",
       "      <td>[On, the, other, hand, ,, the, significance, o...</td>\n",
       "      <td>[O, O, O, O, O, B-Premise, I-Premise, I-Premis...</td>\n",
       "      <td>[0, 0, 0, 0, 0, 5, 6, 6, 6, 6, 6, 6, 6, 6, 6, ...</td>\n",
       "      <td>[O, O, O, O, O, B, I, I, I, I, I, I, I, I, I, ...</td>\n",
       "      <td>[0, 0, 0, 0, 0, 1, 2, 2, 2, 2, 2, 2, 2, 2, 2, ...</td>\n",
       "      <td>[O, O, O, O, O, B-COMP, I-COMP, I-COMP, I-COMP...</td>\n",
       "    </tr>\n",
       "    <tr>\n",
       "      <th>3</th>\n",
       "      <td>TRAIN</td>\n",
       "      <td>Should students be taught to compete or to coo...</td>\n",
       "      <td>essay001</td>\n",
       "      <td>4</td>\n",
       "      <td>Consequently, no matter from the view of indiv...</td>\n",
       "      <td>[Consequently, ,, no, matter, from, the, view,...</td>\n",
       "      <td>[O, O, O, O, O, O, O, O, O, O, O, O, O, O, O, ...</td>\n",
       "      <td>[0, 0, 0, 0, 0, 0, 0, 0, 0, 0, 0, 0, 0, 0, 0, ...</td>\n",
       "      <td>[O, O, O, O, O, O, O, O, O, O, O, O, O, O, O, ...</td>\n",
       "      <td>[0, 0, 0, 0, 0, 0, 0, 0, 0, 0, 0, 0, 0, 0, 0, ...</td>\n",
       "      <td>[O, O, O, O, O, O, O, O, O, O, O, O, O, O, O, ...</td>\n",
       "    </tr>\n",
       "    <tr>\n",
       "      <th>4</th>\n",
       "      <td>TRAIN</td>\n",
       "      <td>More people are migrating to other countries t...</td>\n",
       "      <td>essay002</td>\n",
       "      <td>1</td>\n",
       "      <td>The last 50 years have seen an increasing numb...</td>\n",
       "      <td>[The, last, 50, years, have, seen, an, increas...</td>\n",
       "      <td>[O, O, O, O, O, O, O, O, O, O, O, O, O, O, O, ...</td>\n",
       "      <td>[0, 0, 0, 0, 0, 0, 0, 0, 0, 0, 0, 0, 0, 0, 0, ...</td>\n",
       "      <td>[O, O, O, O, O, O, O, O, O, O, O, O, O, O, O, ...</td>\n",
       "      <td>[0, 0, 0, 0, 0, 0, 0, 0, 0, 0, 0, 0, 0, 0, 0, ...</td>\n",
       "      <td>[O, O, O, O, O, O, O, O, O, O, O, O, O, O, O, ...</td>\n",
       "    </tr>\n",
       "    <tr>\n",
       "      <th>...</th>\n",
       "      <td>...</td>\n",
       "      <td>...</td>\n",
       "      <td>...</td>\n",
       "      <td>...</td>\n",
       "      <td>...</td>\n",
       "      <td>...</td>\n",
       "      <td>...</td>\n",
       "      <td>...</td>\n",
       "      <td>...</td>\n",
       "      <td>...</td>\n",
       "      <td>...</td>\n",
       "    </tr>\n",
       "    <tr>\n",
       "      <th>1714</th>\n",
       "      <td>TRAIN</td>\n",
       "      <td>Fatherhood should be as present as motherhood ...</td>\n",
       "      <td>essay401</td>\n",
       "      <td>4</td>\n",
       "      <td>In conclusion, fatherhood should be as present...</td>\n",
       "      <td>[In, conclusion, ,, fatherhood, should, be, as...</td>\n",
       "      <td>[O, O, O, B-MajorClaim, I-MajorClaim, I-MajorC...</td>\n",
       "      <td>[0, 0, 0, 1, 2, 2, 2, 2, 2, 2, 2, 2, 2, 2, 2, ...</td>\n",
       "      <td>[O, O, O, B, I, I, I, I, I, I, I, I, I, I, I, ...</td>\n",
       "      <td>[0, 0, 0, 1, 2, 2, 2, 2, 2, 2, 2, 2, 2, 2, 2, ...</td>\n",
       "      <td>[O, O, O, B-COMP, I-COMP, I-COMP, I-COMP, I-CO...</td>\n",
       "    </tr>\n",
       "    <tr>\n",
       "      <th>1715</th>\n",
       "      <td>TRAIN</td>\n",
       "      <td>Children should studying hard or playing sport...</td>\n",
       "      <td>essay402</td>\n",
       "      <td>1</td>\n",
       "      <td>Some people believe that studying hard is esse...</td>\n",
       "      <td>[Some, people, believe, that, studying, hard, ...</td>\n",
       "      <td>[O, O, O, O, O, O, O, O, O, O, O, O, O, O, O, ...</td>\n",
       "      <td>[0, 0, 0, 0, 0, 0, 0, 0, 0, 0, 0, 0, 0, 0, 0, ...</td>\n",
       "      <td>[O, O, O, O, O, O, O, O, O, O, O, O, O, O, O, ...</td>\n",
       "      <td>[0, 0, 0, 0, 0, 0, 0, 0, 0, 0, 0, 0, 0, 0, 0, ...</td>\n",
       "      <td>[O, O, O, O, O, O, O, O, O, O, O, O, O, O, O, ...</td>\n",
       "    </tr>\n",
       "    <tr>\n",
       "      <th>1716</th>\n",
       "      <td>TRAIN</td>\n",
       "      <td>Children should studying hard or playing sport...</td>\n",
       "      <td>essay402</td>\n",
       "      <td>2</td>\n",
       "      <td>On the other hand, studying hard will give chi...</td>\n",
       "      <td>[On, the, other, hand, ,, studying, hard, will...</td>\n",
       "      <td>[O, O, O, O, O, B-Claim, I-Claim, I-Claim, I-C...</td>\n",
       "      <td>[0, 0, 0, 0, 0, 3, 4, 4, 4, 4, 4, 4, 4, 0, 5, ...</td>\n",
       "      <td>[O, O, O, O, O, B, I, I, I, I, I, I, I, O, B, ...</td>\n",
       "      <td>[0, 0, 0, 0, 0, 1, 2, 2, 2, 2, 2, 2, 2, 0, 1, ...</td>\n",
       "      <td>[O, O, O, O, O, B-COMP, I-COMP, I-COMP, I-COMP...</td>\n",
       "    </tr>\n",
       "    <tr>\n",
       "      <th>1717</th>\n",
       "      <td>TRAIN</td>\n",
       "      <td>Children should studying hard or playing sport...</td>\n",
       "      <td>essay402</td>\n",
       "      <td>3</td>\n",
       "      <td>At the same time, playing sports will give goo...</td>\n",
       "      <td>[At, the, same, time, ,, playing, sports, will...</td>\n",
       "      <td>[O, O, O, O, O, B-Claim, I-Claim, I-Claim, I-C...</td>\n",
       "      <td>[0, 0, 0, 0, 0, 3, 4, 4, 4, 4, 4, 4, 4, 0, 0, ...</td>\n",
       "      <td>[O, O, O, O, O, B, I, I, I, I, I, I, I, O, O, ...</td>\n",
       "      <td>[0, 0, 0, 0, 0, 1, 2, 2, 2, 2, 2, 2, 2, 0, 0, ...</td>\n",
       "      <td>[O, O, O, O, O, B-COMP, I-COMP, I-COMP, I-COMP...</td>\n",
       "    </tr>\n",
       "    <tr>\n",
       "      <th>1718</th>\n",
       "      <td>TRAIN</td>\n",
       "      <td>Children should studying hard or playing sport...</td>\n",
       "      <td>essay402</td>\n",
       "      <td>4</td>\n",
       "      <td>In conclusion, both studying hard at school an...</td>\n",
       "      <td>[In, conclusion, ,, both, studying, hard, at, ...</td>\n",
       "      <td>[O, O, O, B-MajorClaim, I-MajorClaim, I-MajorC...</td>\n",
       "      <td>[0, 0, 0, 1, 2, 2, 2, 2, 2, 2, 2, 2, 2, 2, 2, ...</td>\n",
       "      <td>[O, O, O, B, I, I, I, I, I, I, I, I, I, I, I, ...</td>\n",
       "      <td>[0, 0, 0, 1, 2, 2, 2, 2, 2, 2, 2, 2, 2, 2, 2, ...</td>\n",
       "      <td>[O, O, O, B-COMP, I-COMP, I-COMP, I-COMP, I-CO...</td>\n",
       "    </tr>\n",
       "  </tbody>\n",
       "</table>\n",
       "<p>1719 rows × 11 columns</p>\n",
       "</div>"
      ],
      "text/plain": [
       "      split                                              essay  essay_nr  \\\n",
       "0     TRAIN  Should students be taught to compete or to coo...  essay001   \n",
       "1     TRAIN  Should students be taught to compete or to coo...  essay001   \n",
       "2     TRAIN  Should students be taught to compete or to coo...  essay001   \n",
       "3     TRAIN  Should students be taught to compete or to coo...  essay001   \n",
       "4     TRAIN  More people are migrating to other countries t...  essay002   \n",
       "...     ...                                                ...       ...   \n",
       "1714  TRAIN  Fatherhood should be as present as motherhood ...  essay401   \n",
       "1715  TRAIN  Children should studying hard or playing sport...  essay402   \n",
       "1716  TRAIN  Children should studying hard or playing sport...  essay402   \n",
       "1717  TRAIN  Children should studying hard or playing sport...  essay402   \n",
       "1718  TRAIN  Children should studying hard or playing sport...  essay402   \n",
       "\n",
       "      para_nr                                          paragraph  \\\n",
       "0           1  It is always said that competition can effecti...   \n",
       "1           2  First of all, through cooperation, children ca...   \n",
       "2           3  On the other hand, the significance of competi...   \n",
       "3           4  Consequently, no matter from the view of indiv...   \n",
       "4           1  The last 50 years have seen an increasing numb...   \n",
       "...       ...                                                ...   \n",
       "1714        4  In conclusion, fatherhood should be as present...   \n",
       "1715        1  Some people believe that studying hard is esse...   \n",
       "1716        2  On the other hand, studying hard will give chi...   \n",
       "1717        3  At the same time, playing sports will give goo...   \n",
       "1718        4  In conclusion, both studying hard at school an...   \n",
       "\n",
       "                                        paragraph_words  \\\n",
       "0     [It, is, always, said, that, competition, can,...   \n",
       "1     [First, of, all, ,, through, cooperation, ,, c...   \n",
       "2     [On, the, other, hand, ,, the, significance, o...   \n",
       "3     [Consequently, ,, no, matter, from, the, view,...   \n",
       "4     [The, last, 50, years, have, seen, an, increas...   \n",
       "...                                                 ...   \n",
       "1714  [In, conclusion, ,, fatherhood, should, be, as...   \n",
       "1715  [Some, people, believe, that, studying, hard, ...   \n",
       "1716  [On, the, other, hand, ,, studying, hard, will...   \n",
       "1717  [At, the, same, time, ,, playing, sports, will...   \n",
       "1718  [In, conclusion, ,, both, studying, hard, at, ...   \n",
       "\n",
       "                                         paragraph_tags  \\\n",
       "0     [O, O, O, O, O, O, O, O, O, O, O, O, O, O, O, ...   \n",
       "1     [O, O, O, O, B-Claim, I-Claim, I-Claim, I-Clai...   \n",
       "2     [O, O, O, O, O, B-Premise, I-Premise, I-Premis...   \n",
       "3     [O, O, O, O, O, O, O, O, O, O, O, O, O, O, O, ...   \n",
       "4     [O, O, O, O, O, O, O, O, O, O, O, O, O, O, O, ...   \n",
       "...                                                 ...   \n",
       "1714  [O, O, O, B-MajorClaim, I-MajorClaim, I-MajorC...   \n",
       "1715  [O, O, O, O, O, O, O, O, O, O, O, O, O, O, O, ...   \n",
       "1716  [O, O, O, O, O, B-Claim, I-Claim, I-Claim, I-C...   \n",
       "1717  [O, O, O, O, O, B-Claim, I-Claim, I-Claim, I-C...   \n",
       "1718  [O, O, O, B-MajorClaim, I-MajorClaim, I-MajorC...   \n",
       "\n",
       "                                          tags_list_int  \\\n",
       "0     [0, 0, 0, 0, 0, 0, 0, 0, 0, 0, 0, 0, 0, 0, 0, ...   \n",
       "1     [0, 0, 0, 0, 3, 4, 4, 4, 4, 4, 4, 4, 4, 4, 4, ...   \n",
       "2     [0, 0, 0, 0, 0, 5, 6, 6, 6, 6, 6, 6, 6, 6, 6, ...   \n",
       "3     [0, 0, 0, 0, 0, 0, 0, 0, 0, 0, 0, 0, 0, 0, 0, ...   \n",
       "4     [0, 0, 0, 0, 0, 0, 0, 0, 0, 0, 0, 0, 0, 0, 0, ...   \n",
       "...                                                 ...   \n",
       "1714  [0, 0, 0, 1, 2, 2, 2, 2, 2, 2, 2, 2, 2, 2, 2, ...   \n",
       "1715  [0, 0, 0, 0, 0, 0, 0, 0, 0, 0, 0, 0, 0, 0, 0, ...   \n",
       "1716  [0, 0, 0, 0, 0, 3, 4, 4, 4, 4, 4, 4, 4, 0, 5, ...   \n",
       "1717  [0, 0, 0, 0, 0, 3, 4, 4, 4, 4, 4, 4, 4, 0, 0, ...   \n",
       "1718  [0, 0, 0, 1, 2, 2, 2, 2, 2, 2, 2, 2, 2, 2, 2, ...   \n",
       "\n",
       "                                paragraph_tags_bio_only  \\\n",
       "0     [O, O, O, O, O, O, O, O, O, O, O, O, O, O, O, ...   \n",
       "1     [O, O, O, O, B, I, I, I, I, I, I, I, I, I, I, ...   \n",
       "2     [O, O, O, O, O, B, I, I, I, I, I, I, I, I, I, ...   \n",
       "3     [O, O, O, O, O, O, O, O, O, O, O, O, O, O, O, ...   \n",
       "4     [O, O, O, O, O, O, O, O, O, O, O, O, O, O, O, ...   \n",
       "...                                                 ...   \n",
       "1714  [O, O, O, B, I, I, I, I, I, I, I, I, I, I, I, ...   \n",
       "1715  [O, O, O, O, O, O, O, O, O, O, O, O, O, O, O, ...   \n",
       "1716  [O, O, O, O, O, B, I, I, I, I, I, I, I, O, B, ...   \n",
       "1717  [O, O, O, O, O, B, I, I, I, I, I, I, I, O, O, ...   \n",
       "1718  [O, O, O, B, I, I, I, I, I, I, I, I, I, I, I, ...   \n",
       "\n",
       "                            paragraph_tags_bio_only_int  \\\n",
       "0     [0, 0, 0, 0, 0, 0, 0, 0, 0, 0, 0, 0, 0, 0, 0, ...   \n",
       "1     [0, 0, 0, 0, 1, 2, 2, 2, 2, 2, 2, 2, 2, 2, 2, ...   \n",
       "2     [0, 0, 0, 0, 0, 1, 2, 2, 2, 2, 2, 2, 2, 2, 2, ...   \n",
       "3     [0, 0, 0, 0, 0, 0, 0, 0, 0, 0, 0, 0, 0, 0, 0, ...   \n",
       "4     [0, 0, 0, 0, 0, 0, 0, 0, 0, 0, 0, 0, 0, 0, 0, ...   \n",
       "...                                                 ...   \n",
       "1714  [0, 0, 0, 1, 2, 2, 2, 2, 2, 2, 2, 2, 2, 2, 2, ...   \n",
       "1715  [0, 0, 0, 0, 0, 0, 0, 0, 0, 0, 0, 0, 0, 0, 0, ...   \n",
       "1716  [0, 0, 0, 0, 0, 1, 2, 2, 2, 2, 2, 2, 2, 0, 1, ...   \n",
       "1717  [0, 0, 0, 0, 0, 1, 2, 2, 2, 2, 2, 2, 2, 0, 0, ...   \n",
       "1718  [0, 0, 0, 1, 2, 2, 2, 2, 2, 2, 2, 2, 2, 2, 2, ...   \n",
       "\n",
       "                     paragraph_tags_bio_only_correction  \n",
       "0     [O, O, O, O, O, O, O, O, O, O, O, O, O, O, O, ...  \n",
       "1     [O, O, O, O, B-COMP, I-COMP, I-COMP, I-COMP, I...  \n",
       "2     [O, O, O, O, O, B-COMP, I-COMP, I-COMP, I-COMP...  \n",
       "3     [O, O, O, O, O, O, O, O, O, O, O, O, O, O, O, ...  \n",
       "4     [O, O, O, O, O, O, O, O, O, O, O, O, O, O, O, ...  \n",
       "...                                                 ...  \n",
       "1714  [O, O, O, B-COMP, I-COMP, I-COMP, I-COMP, I-CO...  \n",
       "1715  [O, O, O, O, O, O, O, O, O, O, O, O, O, O, O, ...  \n",
       "1716  [O, O, O, O, O, B-COMP, I-COMP, I-COMP, I-COMP...  \n",
       "1717  [O, O, O, O, O, B-COMP, I-COMP, I-COMP, I-COMP...  \n",
       "1718  [O, O, O, B-COMP, I-COMP, I-COMP, I-COMP, I-CO...  \n",
       "\n",
       "[1719 rows x 11 columns]"
      ]
     },
     "execution_count": 5,
     "metadata": {},
     "output_type": "execute_result"
    }
   ],
   "source": [
    "dataset_df"
   ]
  },
  {
   "cell_type": "code",
   "execution_count": 6,
   "metadata": {},
   "outputs": [
    {
     "data": {
      "text/plain": [
       "Index(['split', 'essay', 'essay_nr', 'para_nr', 'paragraph', 'paragraph_words',\n",
       "       'paragraph_tags', 'tags_list_int', 'paragraph_tags_bio_only',\n",
       "       'paragraph_tags_bio_only_int', 'paragraph_tags_bio_only_correction'],\n",
       "      dtype='object')"
      ]
     },
     "execution_count": 6,
     "metadata": {},
     "output_type": "execute_result"
    }
   ],
   "source": [
    "dataset_df.columns"
   ]
  },
  {
   "cell_type": "code",
   "execution_count": 7,
   "metadata": {
    "gradient": {
     "editing": false,
     "id": "8e9ad078-69f2-41d4-9c08-68e30463d19f",
     "kernelId": ""
    }
   },
   "outputs": [
    {
     "name": "stdout",
     "output_type": "stream",
     "text": [
      "1719\n",
      "1719\n"
     ]
    }
   ],
   "source": [
    "# sanity check\n",
    "print(len(dataset_df))\n",
    "dataset_df = dataset_df.dropna()\n",
    "print(len(dataset_df))"
   ]
  },
  {
   "cell_type": "code",
   "execution_count": 8,
   "metadata": {
    "gradient": {
     "editing": false,
     "id": "ce62f1fa-3fbf-4d33-82e4-0f13ebefdc02",
     "kernelId": ""
    }
   },
   "outputs": [],
   "source": [
    "dataset_df = dataset_df.reset_index(drop=True)"
   ]
  },
  {
   "cell_type": "code",
   "execution_count": 9,
   "metadata": {},
   "outputs": [
    {
     "data": {
      "text/html": [
       "<div>\n",
       "<style scoped>\n",
       "    .dataframe tbody tr th:only-of-type {\n",
       "        vertical-align: middle;\n",
       "    }\n",
       "\n",
       "    .dataframe tbody tr th {\n",
       "        vertical-align: top;\n",
       "    }\n",
       "\n",
       "    .dataframe thead th {\n",
       "        text-align: right;\n",
       "    }\n",
       "</style>\n",
       "<table border=\"1\" class=\"dataframe\">\n",
       "  <thead>\n",
       "    <tr style=\"text-align: right;\">\n",
       "      <th></th>\n",
       "      <th>split</th>\n",
       "      <th>essay</th>\n",
       "      <th>essay_nr</th>\n",
       "      <th>para_nr</th>\n",
       "      <th>paragraph</th>\n",
       "      <th>paragraph_words</th>\n",
       "      <th>paragraph_tags</th>\n",
       "      <th>tags_list_int</th>\n",
       "      <th>paragraph_tags_bio_only</th>\n",
       "      <th>paragraph_tags_bio_only_int</th>\n",
       "      <th>paragraph_tags_bio_only_correction</th>\n",
       "    </tr>\n",
       "  </thead>\n",
       "  <tbody>\n",
       "    <tr>\n",
       "      <th>0</th>\n",
       "      <td>TRAIN</td>\n",
       "      <td>Should students be taught to compete or to coo...</td>\n",
       "      <td>essay001</td>\n",
       "      <td>1</td>\n",
       "      <td>It is always said that competition can effecti...</td>\n",
       "      <td>[It, is, always, said, that, competition, can,...</td>\n",
       "      <td>[O, O, O, O, O, O, O, O, O, O, O, O, O, O, O, ...</td>\n",
       "      <td>[0, 0, 0, 0, 0, 0, 0, 0, 0, 0, 0, 0, 0, 0, 0, ...</td>\n",
       "      <td>[O, O, O, O, O, O, O, O, O, O, O, O, O, O, O, ...</td>\n",
       "      <td>[0, 0, 0, 0, 0, 0, 0, 0, 0, 0, 0, 0, 0, 0, 0, ...</td>\n",
       "      <td>[O, O, O, O, O, O, O, O, O, O, O, O, O, O, O, ...</td>\n",
       "    </tr>\n",
       "    <tr>\n",
       "      <th>1</th>\n",
       "      <td>TRAIN</td>\n",
       "      <td>Should students be taught to compete or to coo...</td>\n",
       "      <td>essay001</td>\n",
       "      <td>2</td>\n",
       "      <td>First of all, through cooperation, children ca...</td>\n",
       "      <td>[First, of, all, ,, through, cooperation, ,, c...</td>\n",
       "      <td>[O, O, O, O, B-Claim, I-Claim, I-Claim, I-Clai...</td>\n",
       "      <td>[0, 0, 0, 0, 3, 4, 4, 4, 4, 4, 4, 4, 4, 4, 4, ...</td>\n",
       "      <td>[O, O, O, O, B, I, I, I, I, I, I, I, I, I, I, ...</td>\n",
       "      <td>[0, 0, 0, 0, 1, 2, 2, 2, 2, 2, 2, 2, 2, 2, 2, ...</td>\n",
       "      <td>[O, O, O, O, B-COMP, I-COMP, I-COMP, I-COMP, I...</td>\n",
       "    </tr>\n",
       "    <tr>\n",
       "      <th>2</th>\n",
       "      <td>TRAIN</td>\n",
       "      <td>Should students be taught to compete or to coo...</td>\n",
       "      <td>essay001</td>\n",
       "      <td>3</td>\n",
       "      <td>On the other hand, the significance of competi...</td>\n",
       "      <td>[On, the, other, hand, ,, the, significance, o...</td>\n",
       "      <td>[O, O, O, O, O, B-Premise, I-Premise, I-Premis...</td>\n",
       "      <td>[0, 0, 0, 0, 0, 5, 6, 6, 6, 6, 6, 6, 6, 6, 6, ...</td>\n",
       "      <td>[O, O, O, O, O, B, I, I, I, I, I, I, I, I, I, ...</td>\n",
       "      <td>[0, 0, 0, 0, 0, 1, 2, 2, 2, 2, 2, 2, 2, 2, 2, ...</td>\n",
       "      <td>[O, O, O, O, O, B-COMP, I-COMP, I-COMP, I-COMP...</td>\n",
       "    </tr>\n",
       "    <tr>\n",
       "      <th>3</th>\n",
       "      <td>TRAIN</td>\n",
       "      <td>Should students be taught to compete or to coo...</td>\n",
       "      <td>essay001</td>\n",
       "      <td>4</td>\n",
       "      <td>Consequently, no matter from the view of indiv...</td>\n",
       "      <td>[Consequently, ,, no, matter, from, the, view,...</td>\n",
       "      <td>[O, O, O, O, O, O, O, O, O, O, O, O, O, O, O, ...</td>\n",
       "      <td>[0, 0, 0, 0, 0, 0, 0, 0, 0, 0, 0, 0, 0, 0, 0, ...</td>\n",
       "      <td>[O, O, O, O, O, O, O, O, O, O, O, O, O, O, O, ...</td>\n",
       "      <td>[0, 0, 0, 0, 0, 0, 0, 0, 0, 0, 0, 0, 0, 0, 0, ...</td>\n",
       "      <td>[O, O, O, O, O, O, O, O, O, O, O, O, O, O, O, ...</td>\n",
       "    </tr>\n",
       "    <tr>\n",
       "      <th>4</th>\n",
       "      <td>TRAIN</td>\n",
       "      <td>More people are migrating to other countries t...</td>\n",
       "      <td>essay002</td>\n",
       "      <td>1</td>\n",
       "      <td>The last 50 years have seen an increasing numb...</td>\n",
       "      <td>[The, last, 50, years, have, seen, an, increas...</td>\n",
       "      <td>[O, O, O, O, O, O, O, O, O, O, O, O, O, O, O, ...</td>\n",
       "      <td>[0, 0, 0, 0, 0, 0, 0, 0, 0, 0, 0, 0, 0, 0, 0, ...</td>\n",
       "      <td>[O, O, O, O, O, O, O, O, O, O, O, O, O, O, O, ...</td>\n",
       "      <td>[0, 0, 0, 0, 0, 0, 0, 0, 0, 0, 0, 0, 0, 0, 0, ...</td>\n",
       "      <td>[O, O, O, O, O, O, O, O, O, O, O, O, O, O, O, ...</td>\n",
       "    </tr>\n",
       "    <tr>\n",
       "      <th>...</th>\n",
       "      <td>...</td>\n",
       "      <td>...</td>\n",
       "      <td>...</td>\n",
       "      <td>...</td>\n",
       "      <td>...</td>\n",
       "      <td>...</td>\n",
       "      <td>...</td>\n",
       "      <td>...</td>\n",
       "      <td>...</td>\n",
       "      <td>...</td>\n",
       "      <td>...</td>\n",
       "    </tr>\n",
       "    <tr>\n",
       "      <th>1714</th>\n",
       "      <td>TRAIN</td>\n",
       "      <td>Fatherhood should be as present as motherhood ...</td>\n",
       "      <td>essay401</td>\n",
       "      <td>4</td>\n",
       "      <td>In conclusion, fatherhood should be as present...</td>\n",
       "      <td>[In, conclusion, ,, fatherhood, should, be, as...</td>\n",
       "      <td>[O, O, O, B-MajorClaim, I-MajorClaim, I-MajorC...</td>\n",
       "      <td>[0, 0, 0, 1, 2, 2, 2, 2, 2, 2, 2, 2, 2, 2, 2, ...</td>\n",
       "      <td>[O, O, O, B, I, I, I, I, I, I, I, I, I, I, I, ...</td>\n",
       "      <td>[0, 0, 0, 1, 2, 2, 2, 2, 2, 2, 2, 2, 2, 2, 2, ...</td>\n",
       "      <td>[O, O, O, B-COMP, I-COMP, I-COMP, I-COMP, I-CO...</td>\n",
       "    </tr>\n",
       "    <tr>\n",
       "      <th>1715</th>\n",
       "      <td>TRAIN</td>\n",
       "      <td>Children should studying hard or playing sport...</td>\n",
       "      <td>essay402</td>\n",
       "      <td>1</td>\n",
       "      <td>Some people believe that studying hard is esse...</td>\n",
       "      <td>[Some, people, believe, that, studying, hard, ...</td>\n",
       "      <td>[O, O, O, O, O, O, O, O, O, O, O, O, O, O, O, ...</td>\n",
       "      <td>[0, 0, 0, 0, 0, 0, 0, 0, 0, 0, 0, 0, 0, 0, 0, ...</td>\n",
       "      <td>[O, O, O, O, O, O, O, O, O, O, O, O, O, O, O, ...</td>\n",
       "      <td>[0, 0, 0, 0, 0, 0, 0, 0, 0, 0, 0, 0, 0, 0, 0, ...</td>\n",
       "      <td>[O, O, O, O, O, O, O, O, O, O, O, O, O, O, O, ...</td>\n",
       "    </tr>\n",
       "    <tr>\n",
       "      <th>1716</th>\n",
       "      <td>TRAIN</td>\n",
       "      <td>Children should studying hard or playing sport...</td>\n",
       "      <td>essay402</td>\n",
       "      <td>2</td>\n",
       "      <td>On the other hand, studying hard will give chi...</td>\n",
       "      <td>[On, the, other, hand, ,, studying, hard, will...</td>\n",
       "      <td>[O, O, O, O, O, B-Claim, I-Claim, I-Claim, I-C...</td>\n",
       "      <td>[0, 0, 0, 0, 0, 3, 4, 4, 4, 4, 4, 4, 4, 0, 5, ...</td>\n",
       "      <td>[O, O, O, O, O, B, I, I, I, I, I, I, I, O, B, ...</td>\n",
       "      <td>[0, 0, 0, 0, 0, 1, 2, 2, 2, 2, 2, 2, 2, 0, 1, ...</td>\n",
       "      <td>[O, O, O, O, O, B-COMP, I-COMP, I-COMP, I-COMP...</td>\n",
       "    </tr>\n",
       "    <tr>\n",
       "      <th>1717</th>\n",
       "      <td>TRAIN</td>\n",
       "      <td>Children should studying hard or playing sport...</td>\n",
       "      <td>essay402</td>\n",
       "      <td>3</td>\n",
       "      <td>At the same time, playing sports will give goo...</td>\n",
       "      <td>[At, the, same, time, ,, playing, sports, will...</td>\n",
       "      <td>[O, O, O, O, O, B-Claim, I-Claim, I-Claim, I-C...</td>\n",
       "      <td>[0, 0, 0, 0, 0, 3, 4, 4, 4, 4, 4, 4, 4, 0, 0, ...</td>\n",
       "      <td>[O, O, O, O, O, B, I, I, I, I, I, I, I, O, O, ...</td>\n",
       "      <td>[0, 0, 0, 0, 0, 1, 2, 2, 2, 2, 2, 2, 2, 0, 0, ...</td>\n",
       "      <td>[O, O, O, O, O, B-COMP, I-COMP, I-COMP, I-COMP...</td>\n",
       "    </tr>\n",
       "    <tr>\n",
       "      <th>1718</th>\n",
       "      <td>TRAIN</td>\n",
       "      <td>Children should studying hard or playing sport...</td>\n",
       "      <td>essay402</td>\n",
       "      <td>4</td>\n",
       "      <td>In conclusion, both studying hard at school an...</td>\n",
       "      <td>[In, conclusion, ,, both, studying, hard, at, ...</td>\n",
       "      <td>[O, O, O, B-MajorClaim, I-MajorClaim, I-MajorC...</td>\n",
       "      <td>[0, 0, 0, 1, 2, 2, 2, 2, 2, 2, 2, 2, 2, 2, 2, ...</td>\n",
       "      <td>[O, O, O, B, I, I, I, I, I, I, I, I, I, I, I, ...</td>\n",
       "      <td>[0, 0, 0, 1, 2, 2, 2, 2, 2, 2, 2, 2, 2, 2, 2, ...</td>\n",
       "      <td>[O, O, O, B-COMP, I-COMP, I-COMP, I-COMP, I-CO...</td>\n",
       "    </tr>\n",
       "  </tbody>\n",
       "</table>\n",
       "<p>1719 rows × 11 columns</p>\n",
       "</div>"
      ],
      "text/plain": [
       "      split                                              essay  essay_nr  \\\n",
       "0     TRAIN  Should students be taught to compete or to coo...  essay001   \n",
       "1     TRAIN  Should students be taught to compete or to coo...  essay001   \n",
       "2     TRAIN  Should students be taught to compete or to coo...  essay001   \n",
       "3     TRAIN  Should students be taught to compete or to coo...  essay001   \n",
       "4     TRAIN  More people are migrating to other countries t...  essay002   \n",
       "...     ...                                                ...       ...   \n",
       "1714  TRAIN  Fatherhood should be as present as motherhood ...  essay401   \n",
       "1715  TRAIN  Children should studying hard or playing sport...  essay402   \n",
       "1716  TRAIN  Children should studying hard or playing sport...  essay402   \n",
       "1717  TRAIN  Children should studying hard or playing sport...  essay402   \n",
       "1718  TRAIN  Children should studying hard or playing sport...  essay402   \n",
       "\n",
       "      para_nr                                          paragraph  \\\n",
       "0           1  It is always said that competition can effecti...   \n",
       "1           2  First of all, through cooperation, children ca...   \n",
       "2           3  On the other hand, the significance of competi...   \n",
       "3           4  Consequently, no matter from the view of indiv...   \n",
       "4           1  The last 50 years have seen an increasing numb...   \n",
       "...       ...                                                ...   \n",
       "1714        4  In conclusion, fatherhood should be as present...   \n",
       "1715        1  Some people believe that studying hard is esse...   \n",
       "1716        2  On the other hand, studying hard will give chi...   \n",
       "1717        3  At the same time, playing sports will give goo...   \n",
       "1718        4  In conclusion, both studying hard at school an...   \n",
       "\n",
       "                                        paragraph_words  \\\n",
       "0     [It, is, always, said, that, competition, can,...   \n",
       "1     [First, of, all, ,, through, cooperation, ,, c...   \n",
       "2     [On, the, other, hand, ,, the, significance, o...   \n",
       "3     [Consequently, ,, no, matter, from, the, view,...   \n",
       "4     [The, last, 50, years, have, seen, an, increas...   \n",
       "...                                                 ...   \n",
       "1714  [In, conclusion, ,, fatherhood, should, be, as...   \n",
       "1715  [Some, people, believe, that, studying, hard, ...   \n",
       "1716  [On, the, other, hand, ,, studying, hard, will...   \n",
       "1717  [At, the, same, time, ,, playing, sports, will...   \n",
       "1718  [In, conclusion, ,, both, studying, hard, at, ...   \n",
       "\n",
       "                                         paragraph_tags  \\\n",
       "0     [O, O, O, O, O, O, O, O, O, O, O, O, O, O, O, ...   \n",
       "1     [O, O, O, O, B-Claim, I-Claim, I-Claim, I-Clai...   \n",
       "2     [O, O, O, O, O, B-Premise, I-Premise, I-Premis...   \n",
       "3     [O, O, O, O, O, O, O, O, O, O, O, O, O, O, O, ...   \n",
       "4     [O, O, O, O, O, O, O, O, O, O, O, O, O, O, O, ...   \n",
       "...                                                 ...   \n",
       "1714  [O, O, O, B-MajorClaim, I-MajorClaim, I-MajorC...   \n",
       "1715  [O, O, O, O, O, O, O, O, O, O, O, O, O, O, O, ...   \n",
       "1716  [O, O, O, O, O, B-Claim, I-Claim, I-Claim, I-C...   \n",
       "1717  [O, O, O, O, O, B-Claim, I-Claim, I-Claim, I-C...   \n",
       "1718  [O, O, O, B-MajorClaim, I-MajorClaim, I-MajorC...   \n",
       "\n",
       "                                          tags_list_int  \\\n",
       "0     [0, 0, 0, 0, 0, 0, 0, 0, 0, 0, 0, 0, 0, 0, 0, ...   \n",
       "1     [0, 0, 0, 0, 3, 4, 4, 4, 4, 4, 4, 4, 4, 4, 4, ...   \n",
       "2     [0, 0, 0, 0, 0, 5, 6, 6, 6, 6, 6, 6, 6, 6, 6, ...   \n",
       "3     [0, 0, 0, 0, 0, 0, 0, 0, 0, 0, 0, 0, 0, 0, 0, ...   \n",
       "4     [0, 0, 0, 0, 0, 0, 0, 0, 0, 0, 0, 0, 0, 0, 0, ...   \n",
       "...                                                 ...   \n",
       "1714  [0, 0, 0, 1, 2, 2, 2, 2, 2, 2, 2, 2, 2, 2, 2, ...   \n",
       "1715  [0, 0, 0, 0, 0, 0, 0, 0, 0, 0, 0, 0, 0, 0, 0, ...   \n",
       "1716  [0, 0, 0, 0, 0, 3, 4, 4, 4, 4, 4, 4, 4, 0, 5, ...   \n",
       "1717  [0, 0, 0, 0, 0, 3, 4, 4, 4, 4, 4, 4, 4, 0, 0, ...   \n",
       "1718  [0, 0, 0, 1, 2, 2, 2, 2, 2, 2, 2, 2, 2, 2, 2, ...   \n",
       "\n",
       "                                paragraph_tags_bio_only  \\\n",
       "0     [O, O, O, O, O, O, O, O, O, O, O, O, O, O, O, ...   \n",
       "1     [O, O, O, O, B, I, I, I, I, I, I, I, I, I, I, ...   \n",
       "2     [O, O, O, O, O, B, I, I, I, I, I, I, I, I, I, ...   \n",
       "3     [O, O, O, O, O, O, O, O, O, O, O, O, O, O, O, ...   \n",
       "4     [O, O, O, O, O, O, O, O, O, O, O, O, O, O, O, ...   \n",
       "...                                                 ...   \n",
       "1714  [O, O, O, B, I, I, I, I, I, I, I, I, I, I, I, ...   \n",
       "1715  [O, O, O, O, O, O, O, O, O, O, O, O, O, O, O, ...   \n",
       "1716  [O, O, O, O, O, B, I, I, I, I, I, I, I, O, B, ...   \n",
       "1717  [O, O, O, O, O, B, I, I, I, I, I, I, I, O, O, ...   \n",
       "1718  [O, O, O, B, I, I, I, I, I, I, I, I, I, I, I, ...   \n",
       "\n",
       "                            paragraph_tags_bio_only_int  \\\n",
       "0     [0, 0, 0, 0, 0, 0, 0, 0, 0, 0, 0, 0, 0, 0, 0, ...   \n",
       "1     [0, 0, 0, 0, 1, 2, 2, 2, 2, 2, 2, 2, 2, 2, 2, ...   \n",
       "2     [0, 0, 0, 0, 0, 1, 2, 2, 2, 2, 2, 2, 2, 2, 2, ...   \n",
       "3     [0, 0, 0, 0, 0, 0, 0, 0, 0, 0, 0, 0, 0, 0, 0, ...   \n",
       "4     [0, 0, 0, 0, 0, 0, 0, 0, 0, 0, 0, 0, 0, 0, 0, ...   \n",
       "...                                                 ...   \n",
       "1714  [0, 0, 0, 1, 2, 2, 2, 2, 2, 2, 2, 2, 2, 2, 2, ...   \n",
       "1715  [0, 0, 0, 0, 0, 0, 0, 0, 0, 0, 0, 0, 0, 0, 0, ...   \n",
       "1716  [0, 0, 0, 0, 0, 1, 2, 2, 2, 2, 2, 2, 2, 0, 1, ...   \n",
       "1717  [0, 0, 0, 0, 0, 1, 2, 2, 2, 2, 2, 2, 2, 0, 0, ...   \n",
       "1718  [0, 0, 0, 1, 2, 2, 2, 2, 2, 2, 2, 2, 2, 2, 2, ...   \n",
       "\n",
       "                     paragraph_tags_bio_only_correction  \n",
       "0     [O, O, O, O, O, O, O, O, O, O, O, O, O, O, O, ...  \n",
       "1     [O, O, O, O, B-COMP, I-COMP, I-COMP, I-COMP, I...  \n",
       "2     [O, O, O, O, O, B-COMP, I-COMP, I-COMP, I-COMP...  \n",
       "3     [O, O, O, O, O, O, O, O, O, O, O, O, O, O, O, ...  \n",
       "4     [O, O, O, O, O, O, O, O, O, O, O, O, O, O, O, ...  \n",
       "...                                                 ...  \n",
       "1714  [O, O, O, B-COMP, I-COMP, I-COMP, I-COMP, I-CO...  \n",
       "1715  [O, O, O, O, O, O, O, O, O, O, O, O, O, O, O, ...  \n",
       "1716  [O, O, O, O, O, B-COMP, I-COMP, I-COMP, I-COMP...  \n",
       "1717  [O, O, O, O, O, B-COMP, I-COMP, I-COMP, I-COMP...  \n",
       "1718  [O, O, O, B-COMP, I-COMP, I-COMP, I-COMP, I-CO...  \n",
       "\n",
       "[1719 rows x 11 columns]"
      ]
     },
     "execution_count": 9,
     "metadata": {},
     "output_type": "execute_result"
    }
   ],
   "source": [
    "dataset_df"
   ]
  },
  {
   "cell_type": "code",
   "execution_count": 10,
   "metadata": {},
   "outputs": [],
   "source": [
    "train_df = dataset_df[dataset_df.split=='TRAIN'].reset_index(drop=True)\n",
    "test_df = dataset_df[dataset_df.split=='TEST'].reset_index(drop=True)\n",
    "\n",
    "\n",
    "\n",
    "# for example\n",
    "\n",
    "# val_df = dataset_df[dataset_df.split=='VALIDATION'].reset_index(drop=True)"
   ]
  },
  {
   "cell_type": "markdown",
   "metadata": {
    "gradient": {
     "editing": false,
     "id": "41d56883-23e9-4722-9298-bc70f438ed0d",
     "kernelId": ""
    }
   },
   "source": [
    "## Prepare Dataset object"
   ]
  },
  {
   "cell_type": "code",
   "execution_count": 11,
   "metadata": {},
   "outputs": [],
   "source": [
    "dataset_train = Dataset.from_pandas(train_df)\n",
    "dataset_test = Dataset.from_pandas(test_df)"
   ]
  },
  {
   "cell_type": "code",
   "execution_count": 12,
   "metadata": {},
   "outputs": [],
   "source": [
    "train_val_datasets = dataset_train.train_test_split(train_size=0.8)\n",
    "dataset_train = train_val_datasets['train']\n",
    "dataset_val = train_val_datasets['test']"
   ]
  },
  {
   "cell_type": "code",
   "execution_count": null,
   "metadata": {},
   "outputs": [],
   "source": []
  },
  {
   "cell_type": "code",
   "execution_count": 13,
   "metadata": {
    "gradient": {
     "editing": false,
     "id": "e260bb57-be23-441a-a38f-f0598f773f9c",
     "kernelId": ""
    }
   },
   "outputs": [],
   "source": [
    "dataset = DatasetDict({\"train\": dataset_train, \"test\": dataset_test, \"validation\": dataset_val})"
   ]
  },
  {
   "cell_type": "code",
   "execution_count": 14,
   "metadata": {
    "gradient": {
     "editing": false,
     "id": "b8ec2355-2e51-4cf6-ad2b-0ae3e6e52419",
     "kernelId": ""
    }
   },
   "outputs": [
    {
     "data": {
      "text/plain": [
       "DatasetDict({\n",
       "    train: Dataset({\n",
       "        features: ['split', 'essay', 'essay_nr', 'para_nr', 'paragraph', 'paragraph_words', 'paragraph_tags', 'tags_list_int', 'paragraph_tags_bio_only', 'paragraph_tags_bio_only_int', 'paragraph_tags_bio_only_correction'],\n",
       "        num_rows: 1091\n",
       "    })\n",
       "    test: Dataset({\n",
       "        features: ['split', 'essay', 'essay_nr', 'para_nr', 'paragraph', 'paragraph_words', 'paragraph_tags', 'tags_list_int', 'paragraph_tags_bio_only', 'paragraph_tags_bio_only_int', 'paragraph_tags_bio_only_correction'],\n",
       "        num_rows: 355\n",
       "    })\n",
       "    validation: Dataset({\n",
       "        features: ['split', 'essay', 'essay_nr', 'para_nr', 'paragraph', 'paragraph_words', 'paragraph_tags', 'tags_list_int', 'paragraph_tags_bio_only', 'paragraph_tags_bio_only_int', 'paragraph_tags_bio_only_correction'],\n",
       "        num_rows: 273\n",
       "    })\n",
       "})"
      ]
     },
     "execution_count": 14,
     "metadata": {},
     "output_type": "execute_result"
    }
   ],
   "source": [
    "dataset"
   ]
  },
  {
   "cell_type": "code",
   "execution_count": 15,
   "metadata": {
    "gradient": {
     "editing": false,
     "id": "b7e61d38-7343-4e99-830c-54f683dde1a2",
     "kernelId": ""
    }
   },
   "outputs": [
    {
     "data": {
      "text/plain": [
       "({'TRAIN'}, {'TEST'}, {'TRAIN'})"
      ]
     },
     "execution_count": 15,
     "metadata": {},
     "output_type": "execute_result"
    }
   ],
   "source": [
    "# sanity check\n",
    "set(dataset['train']['split']), set(dataset['test']['split']), set(dataset['validation']['split'])"
   ]
  },
  {
   "cell_type": "markdown",
   "metadata": {
    "gradient": {
     "editing": false,
     "id": "8ab4f270-c88d-4519-bc7b-83705dd28808",
     "kernelId": ""
    }
   },
   "source": [
    "## Save dataset"
   ]
  },
  {
   "cell_type": "code",
   "execution_count": 16,
   "metadata": {
    "gradient": {
     "editing": false,
     "id": "6dadff8a-16ab-4dbc-bd1a-36e1d65db632",
     "kernelId": ""
    }
   },
   "outputs": [],
   "source": [
    "torch.save(dataset, os.path.join(\"/notebooks/token_classification/data/\", 'pe_dataset_task_1_bio_only.pt'))"
   ]
  },
  {
   "cell_type": "code",
   "execution_count": 17,
   "metadata": {
    "gradient": {
     "editing": false,
     "id": "114ceb65-ef65-4431-ae93-4755977cf350",
     "kernelId": ""
    }
   },
   "outputs": [],
   "source": [
    "with open(os.path.join(\"/notebooks/token_classification/data/\", 'pe_dataset_task_1_bio_only.pt'), \"wb\") as f:\n",
    "    pickle.dump(dataset, f)\n",
    "#torch.save(dataset, os.path.join(\"/notebooks/token_classification/data/\", 'pe_dataset_task_1_bio_only.pt'))"
   ]
  },
  {
   "cell_type": "code",
   "execution_count": null,
   "metadata": {
    "gradient": {
     "editing": false,
     "id": "9ac6231d-871f-411c-8e9b-51dd7fa2e32e",
     "kernelId": ""
    }
   },
   "outputs": [],
   "source": []
  }
 ],
 "metadata": {
  "kernelspec": {
   "display_name": "Python 3 (ipykernel)",
   "language": "python",
   "name": "python3"
  },
  "language_info": {
   "codemirror_mode": {
    "name": "ipython",
    "version": 3
   },
   "file_extension": ".py",
   "mimetype": "text/x-python",
   "name": "python",
   "nbconvert_exporter": "python",
   "pygments_lexer": "ipython3",
   "version": "3.8.12"
  }
 },
 "nbformat": 4,
 "nbformat_minor": 4
}
